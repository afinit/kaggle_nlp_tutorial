{
 "cells": [
  {
   "cell_type": "code",
   "execution_count": 75,
   "metadata": {},
   "outputs": [
    {
     "name": "stdout",
     "output_type": "stream",
     "text": [
      "[nltk_data] Downloading package stopwords to /root/nltk_data...\n",
      "[nltk_data]   Package stopwords is already up-to-date!\n"
     ]
    }
   ],
   "source": [
    "import pandas as pd\n",
    "import numpy as np\n",
    "from bs4 import BeautifulSoup\n",
    "from sklearn.feature_extraction.text import CountVectorizer\n",
    "from sklearn.ensemble import RandomForestClassifier\n",
    "\n",
    "import re\n",
    "import nltk\n",
    "from nltk.corpus import stopwords\n",
    "nltk.download('stopwords')\n",
    "\n",
    "import seaborn as sns\n",
    "import matplotlib.pyplot as plt\n",
    "from scipy.stats import describe\n",
    "\n",
    "%matplotlib inline"
   ]
  },
  {
   "cell_type": "markdown",
   "metadata": {},
   "source": [
    "# Read in Data"
   ]
  },
  {
   "cell_type": "code",
   "execution_count": 2,
   "metadata": {
    "collapsed": true
   },
   "outputs": [],
   "source": [
    "train = pd.read_csv(\"../data/labeledTrainData.tsv\", header = 0, delimiter = \"\\t\", quoting=3)"
   ]
  },
  {
   "cell_type": "code",
   "execution_count": 4,
   "metadata": {},
   "outputs": [
    {
     "data": {
      "text/html": [
       "<div>\n",
       "<style>\n",
       "    .dataframe thead tr:only-child th {\n",
       "        text-align: right;\n",
       "    }\n",
       "\n",
       "    .dataframe thead th {\n",
       "        text-align: left;\n",
       "    }\n",
       "\n",
       "    .dataframe tbody tr th {\n",
       "        vertical-align: top;\n",
       "    }\n",
       "</style>\n",
       "<table border=\"1\" class=\"dataframe\">\n",
       "  <thead>\n",
       "    <tr style=\"text-align: right;\">\n",
       "      <th></th>\n",
       "      <th>id</th>\n",
       "      <th>sentiment</th>\n",
       "      <th>review</th>\n",
       "    </tr>\n",
       "  </thead>\n",
       "  <tbody>\n",
       "    <tr>\n",
       "      <th>0</th>\n",
       "      <td>\"5814_8\"</td>\n",
       "      <td>1</td>\n",
       "      <td>\"With all this stuff going down at the moment ...</td>\n",
       "    </tr>\n",
       "    <tr>\n",
       "      <th>1</th>\n",
       "      <td>\"2381_9\"</td>\n",
       "      <td>1</td>\n",
       "      <td>\"\\\"The Classic War of the Worlds\\\" by Timothy ...</td>\n",
       "    </tr>\n",
       "    <tr>\n",
       "      <th>2</th>\n",
       "      <td>\"7759_3\"</td>\n",
       "      <td>0</td>\n",
       "      <td>\"The film starts with a manager (Nicholas Bell...</td>\n",
       "    </tr>\n",
       "    <tr>\n",
       "      <th>3</th>\n",
       "      <td>\"3630_4\"</td>\n",
       "      <td>0</td>\n",
       "      <td>\"It must be assumed that those who praised thi...</td>\n",
       "    </tr>\n",
       "    <tr>\n",
       "      <th>4</th>\n",
       "      <td>\"9495_8\"</td>\n",
       "      <td>1</td>\n",
       "      <td>\"Superbly trashy and wondrously unpretentious ...</td>\n",
       "    </tr>\n",
       "  </tbody>\n",
       "</table>\n",
       "</div>"
      ],
      "text/plain": [
       "         id  sentiment                                             review\n",
       "0  \"5814_8\"          1  \"With all this stuff going down at the moment ...\n",
       "1  \"2381_9\"          1  \"\\\"The Classic War of the Worlds\\\" by Timothy ...\n",
       "2  \"7759_3\"          0  \"The film starts with a manager (Nicholas Bell...\n",
       "3  \"3630_4\"          0  \"It must be assumed that those who praised thi...\n",
       "4  \"9495_8\"          1  \"Superbly trashy and wondrously unpretentious ..."
      ]
     },
     "execution_count": 4,
     "metadata": {},
     "output_type": "execute_result"
    }
   ],
   "source": [
    "train.head()"
   ]
  },
  {
   "cell_type": "code",
   "execution_count": 6,
   "metadata": {},
   "outputs": [
    {
     "data": {
      "text/plain": [
       "(25000, 3)"
      ]
     },
     "execution_count": 6,
     "metadata": {},
     "output_type": "execute_result"
    }
   ],
   "source": [
    "train.shape"
   ]
  },
  {
   "cell_type": "code",
   "execution_count": 58,
   "metadata": {},
   "outputs": [
    {
     "data": {
      "text/plain": [
       "(25000, 2)"
      ]
     },
     "execution_count": 58,
     "metadata": {},
     "output_type": "execute_result"
    }
   ],
   "source": [
    "test = pd.read_csv(\"../data/testData.tsv\", header = 0, delimiter = '\\t', quoting=3)\n",
    "test.shape"
   ]
  },
  {
   "cell_type": "code",
   "execution_count": null,
   "metadata": {
    "collapsed": true
   },
   "outputs": [],
   "source": []
  },
  {
   "cell_type": "markdown",
   "metadata": {},
   "source": [
    "# Data Cleaning\n"
   ]
  },
  {
   "cell_type": "markdown",
   "metadata": {},
   "source": [
    "## removing markup"
   ]
  },
  {
   "cell_type": "code",
   "execution_count": 9,
   "metadata": {
    "collapsed": true
   },
   "outputs": [
    {
     "name": "stdout",
     "output_type": "stream",
     "text": [
      "<html><head></head><body>\"With all this stuff going down at the moment with MJ i've started listening to his music, watching the odd documentary here and there, watched The Wiz and watched Moonwalker again. Maybe i just want to get a certain insight into this guy who i thought was really cool in the eighties just to maybe make up my mind whether he is guilty or innocent. Moonwalker is part biography, part feature film which i remember going to see at the cinema when it was originally released. Some of it has subtle messages about MJ's feeling towards the press and also the obvious message of drugs are bad m'kay.<br/><br/>Visually impressive but of course this is all about Michael Jackson so unless you remotely like MJ in anyway then you are going to hate this and find it boring. Some may call MJ an egotist for consenting to the making of this movie BUT MJ and most of his fans would say that he made it for the fans which if true is really nice of him.<br/><br/>The actual feature film bit when it finally starts is only on for 20 minutes or so excluding the Smooth Criminal sequence and Joe Pesci is convincing as a psychopathic all powerful drug lord. Why he wants MJ dead so bad is beyond me. Because MJ overheard his plans? Nah, Joe Pesci's character ranted that he wanted people to know it is he who is supplying drugs etc so i dunno, maybe he just hates MJ's music.<br/><br/>Lots of cool things in this like MJ turning into a car and a robot and the whole Speed Demon sequence. Also, the director must have had the patience of a saint when it came to filming the kiddy Bad sequence as usually directors hate working with one kid let alone a whole bunch of them performing a complex dance scene.<br/><br/>Bottom line, this movie is for people who like MJ on one level or another (which i think is most people). If not, then stay away. It does try and give off a wholesome message and ironically MJ's bestest buddy in this movie is a girl! Michael Jackson is truly one of the most talented people ever to grace this planet but is he guilty? Well, with all the attention i've gave this subject....hmmm well i don't know because people can be different behind closed doors, i know this for a fact. He is either an extremely nice but stupid guy or one of the most sickest liars. I hope he is not the latter.\"</body></html>\n"
     ]
    }
   ],
   "source": [
    "print(BeautifulSoup(train[\"review\"][0]))"
   ]
  },
  {
   "cell_type": "code",
   "execution_count": 10,
   "metadata": {
    "collapsed": true
   },
   "outputs": [
    {
     "name": "stdout",
     "output_type": "stream",
     "text": [
      "\"With all this stuff going down at the moment with MJ i've started listening to his music, watching the odd documentary here and there, watched The Wiz and watched Moonwalker again. Maybe i just want to get a certain insight into this guy who i thought was really cool in the eighties just to maybe make up my mind whether he is guilty or innocent. Moonwalker is part biography, part feature film which i remember going to see at the cinema when it was originally released. Some of it has subtle messages about MJ's feeling towards the press and also the obvious message of drugs are bad m'kay.<br /><br />Visually impressive but of course this is all about Michael Jackson so unless you remotely like MJ in anyway then you are going to hate this and find it boring. Some may call MJ an egotist for consenting to the making of this movie BUT MJ and most of his fans would say that he made it for the fans which if true is really nice of him.<br /><br />The actual feature film bit when it finally starts is only on for 20 minutes or so excluding the Smooth Criminal sequence and Joe Pesci is convincing as a psychopathic all powerful drug lord. Why he wants MJ dead so bad is beyond me. Because MJ overheard his plans? Nah, Joe Pesci's character ranted that he wanted people to know it is he who is supplying drugs etc so i dunno, maybe he just hates MJ's music.<br /><br />Lots of cool things in this like MJ turning into a car and a robot and the whole Speed Demon sequence. Also, the director must have had the patience of a saint when it came to filming the kiddy Bad sequence as usually directors hate working with one kid let alone a whole bunch of them performing a complex dance scene.<br /><br />Bottom line, this movie is for people who like MJ on one level or another (which i think is most people). If not, then stay away. It does try and give off a wholesome message and ironically MJ's bestest buddy in this movie is a girl! Michael Jackson is truly one of the most talented people ever to grace this planet but is he guilty? Well, with all the attention i've gave this subject....hmmm well i don't know because people can be different behind closed doors, i know this for a fact. He is either an extremely nice but stupid guy or one of the most sickest liars. I hope he is not the latter.\"\n"
     ]
    }
   ],
   "source": [
    "print(train[\"review\"][0])"
   ]
  },
  {
   "cell_type": "code",
   "execution_count": 11,
   "metadata": {
    "collapsed": true
   },
   "outputs": [
    {
     "name": "stdout",
     "output_type": "stream",
     "text": [
      "\"With all this stuff going down at the moment with MJ i've started listening to his music, watching the odd documentary here and there, watched The Wiz and watched Moonwalker again. Maybe i just want to get a certain insight into this guy who i thought was really cool in the eighties just to maybe make up my mind whether he is guilty or innocent. Moonwalker is part biography, part feature film which i remember going to see at the cinema when it was originally released. Some of it has subtle messages about MJ's feeling towards the press and also the obvious message of drugs are bad m'kay.Visually impressive but of course this is all about Michael Jackson so unless you remotely like MJ in anyway then you are going to hate this and find it boring. Some may call MJ an egotist for consenting to the making of this movie BUT MJ and most of his fans would say that he made it for the fans which if true is really nice of him.The actual feature film bit when it finally starts is only on for 20 minutes or so excluding the Smooth Criminal sequence and Joe Pesci is convincing as a psychopathic all powerful drug lord. Why he wants MJ dead so bad is beyond me. Because MJ overheard his plans? Nah, Joe Pesci's character ranted that he wanted people to know it is he who is supplying drugs etc so i dunno, maybe he just hates MJ's music.Lots of cool things in this like MJ turning into a car and a robot and the whole Speed Demon sequence. Also, the director must have had the patience of a saint when it came to filming the kiddy Bad sequence as usually directors hate working with one kid let alone a whole bunch of them performing a complex dance scene.Bottom line, this movie is for people who like MJ on one level or another (which i think is most people). If not, then stay away. It does try and give off a wholesome message and ironically MJ's bestest buddy in this movie is a girl! Michael Jackson is truly one of the most talented people ever to grace this planet but is he guilty? Well, with all the attention i've gave this subject....hmmm well i don't know because people can be different behind closed doors, i know this for a fact. He is either an extremely nice but stupid guy or one of the most sickest liars. I hope he is not the latter.\"\n"
     ]
    }
   ],
   "source": [
    "print(BeautifulSoup(train[\"review\"][0]).get_text())"
   ]
  },
  {
   "cell_type": "markdown",
   "metadata": {},
   "source": [
    "## looking at punctuation"
   ]
  },
  {
   "cell_type": "code",
   "execution_count": 22,
   "metadata": {
    "collapsed": true
   },
   "outputs": [
    {
     "data": {
      "text/plain": [
       "[u'stuff',\n",
       " u'going',\n",
       " u'moment',\n",
       " u'mj',\n",
       " u'started',\n",
       " u'listening',\n",
       " u'music',\n",
       " u'watching',\n",
       " u'odd',\n",
       " u'documentary',\n",
       " u'watched',\n",
       " u'wiz',\n",
       " u'watched',\n",
       " u'moonwalker',\n",
       " u'maybe',\n",
       " u'want',\n",
       " u'get',\n",
       " u'certain',\n",
       " u'insight',\n",
       " u'guy',\n",
       " u'thought',\n",
       " u'really',\n",
       " u'cool',\n",
       " u'eighties',\n",
       " u'maybe',\n",
       " u'make',\n",
       " u'mind',\n",
       " u'whether',\n",
       " u'guilty',\n",
       " u'innocent',\n",
       " u'moonwalker',\n",
       " u'part',\n",
       " u'biography',\n",
       " u'part',\n",
       " u'feature',\n",
       " u'film',\n",
       " u'remember',\n",
       " u'going',\n",
       " u'see',\n",
       " u'cinema',\n",
       " u'originally',\n",
       " u'released',\n",
       " u'subtle',\n",
       " u'messages',\n",
       " u'mj',\n",
       " u'feeling',\n",
       " u'towards',\n",
       " u'press',\n",
       " u'also',\n",
       " u'obvious',\n",
       " u'message',\n",
       " u'drugs',\n",
       " u'bad',\n",
       " u'kay',\n",
       " u'visually',\n",
       " u'impressive',\n",
       " u'course',\n",
       " u'michael',\n",
       " u'jackson',\n",
       " u'unless',\n",
       " u'remotely',\n",
       " u'like',\n",
       " u'mj',\n",
       " u'anyway',\n",
       " u'going',\n",
       " u'hate',\n",
       " u'find',\n",
       " u'boring',\n",
       " u'may',\n",
       " u'call',\n",
       " u'mj',\n",
       " u'egotist',\n",
       " u'consenting',\n",
       " u'making',\n",
       " u'movie',\n",
       " u'mj',\n",
       " u'fans',\n",
       " u'would',\n",
       " u'say',\n",
       " u'made',\n",
       " u'fans',\n",
       " u'true',\n",
       " u'really',\n",
       " u'nice',\n",
       " u'actual',\n",
       " u'feature',\n",
       " u'film',\n",
       " u'bit',\n",
       " u'finally',\n",
       " u'starts',\n",
       " u'minutes',\n",
       " u'excluding',\n",
       " u'smooth',\n",
       " u'criminal',\n",
       " u'sequence',\n",
       " u'joe',\n",
       " u'pesci',\n",
       " u'convincing',\n",
       " u'psychopathic',\n",
       " u'powerful',\n",
       " u'drug',\n",
       " u'lord',\n",
       " u'wants',\n",
       " u'mj',\n",
       " u'dead',\n",
       " u'bad',\n",
       " u'beyond',\n",
       " u'mj',\n",
       " u'overheard',\n",
       " u'plans',\n",
       " u'nah',\n",
       " u'joe',\n",
       " u'pesci',\n",
       " u'character',\n",
       " u'ranted',\n",
       " u'wanted',\n",
       " u'people',\n",
       " u'know',\n",
       " u'supplying',\n",
       " u'drugs',\n",
       " u'etc',\n",
       " u'dunno',\n",
       " u'maybe',\n",
       " u'hates',\n",
       " u'mj',\n",
       " u'music',\n",
       " u'lots',\n",
       " u'cool',\n",
       " u'things',\n",
       " u'like',\n",
       " u'mj',\n",
       " u'turning',\n",
       " u'car',\n",
       " u'robot',\n",
       " u'whole',\n",
       " u'speed',\n",
       " u'demon',\n",
       " u'sequence',\n",
       " u'also',\n",
       " u'director',\n",
       " u'must',\n",
       " u'patience',\n",
       " u'saint',\n",
       " u'came',\n",
       " u'filming',\n",
       " u'kiddy',\n",
       " u'bad',\n",
       " u'sequence',\n",
       " u'usually',\n",
       " u'directors',\n",
       " u'hate',\n",
       " u'working',\n",
       " u'one',\n",
       " u'kid',\n",
       " u'let',\n",
       " u'alone',\n",
       " u'whole',\n",
       " u'bunch',\n",
       " u'performing',\n",
       " u'complex',\n",
       " u'dance',\n",
       " u'scene',\n",
       " u'bottom',\n",
       " u'line',\n",
       " u'movie',\n",
       " u'people',\n",
       " u'like',\n",
       " u'mj',\n",
       " u'one',\n",
       " u'level',\n",
       " u'another',\n",
       " u'think',\n",
       " u'people',\n",
       " u'stay',\n",
       " u'away',\n",
       " u'try',\n",
       " u'give',\n",
       " u'wholesome',\n",
       " u'message',\n",
       " u'ironically',\n",
       " u'mj',\n",
       " u'bestest',\n",
       " u'buddy',\n",
       " u'movie',\n",
       " u'girl',\n",
       " u'michael',\n",
       " u'jackson',\n",
       " u'truly',\n",
       " u'one',\n",
       " u'talented',\n",
       " u'people',\n",
       " u'ever',\n",
       " u'grace',\n",
       " u'planet',\n",
       " u'guilty',\n",
       " u'well',\n",
       " u'attention',\n",
       " u'gave',\n",
       " u'subject',\n",
       " u'hmmm',\n",
       " u'well',\n",
       " u'know',\n",
       " u'people',\n",
       " u'different',\n",
       " u'behind',\n",
       " u'closed',\n",
       " u'doors',\n",
       " u'know',\n",
       " u'fact',\n",
       " u'either',\n",
       " u'extremely',\n",
       " u'nice',\n",
       " u'stupid',\n",
       " u'guy',\n",
       " u'one',\n",
       " u'sickest',\n",
       " u'liars',\n",
       " u'hope',\n",
       " u'latter']"
      ]
     },
     "execution_count": 22,
     "metadata": {},
     "output_type": "execute_result"
    }
   ],
   "source": [
    "[w for w in re.sub(\"[^A-Za-z]\", \" \", BeautifulSoup(train[\"review\"][0]).get_text()).lower().split() if w not in stopwords.words(\"english\")]"
   ]
  },
  {
   "cell_type": "markdown",
   "metadata": {},
   "source": [
    "## Review to Words"
   ]
  },
  {
   "cell_type": "code",
   "execution_count": 23,
   "metadata": {
    "collapsed": true
   },
   "outputs": [],
   "source": [
    "def review_to_words( raw_review ):\n",
    "    # Function to convert a raw review to a string of words\n",
    "    # The input is a single string (a raw movie review), and \n",
    "    # the output is a single string (a preprocessed movie review)\n",
    "    #\n",
    "    # 1. Remove HTML\n",
    "    review_text = BeautifulSoup(raw_review).get_text() \n",
    "    #\n",
    "    # 2. Remove non-letters        \n",
    "    letters_only = re.sub(\"[^a-zA-Z]\", \" \", review_text) \n",
    "    #\n",
    "    # 3. Convert to lower case, split into individual words\n",
    "    words = letters_only.lower().split()                             \n",
    "    #\n",
    "    # 4. In Python, searching a set is much faster than searching\n",
    "    #   a list, so convert the stop words to a set\n",
    "    stops = set(stopwords.words(\"english\"))                  \n",
    "    # \n",
    "    # 5. Remove stop words\n",
    "    meaningful_words = [w for w in words if not w in stops]   \n",
    "    #\n",
    "    # 6. Join the words back into one string separated by space, \n",
    "    # and return the result.\n",
    "    return( \" \".join( meaningful_words )) "
   ]
  },
  {
   "cell_type": "markdown",
   "metadata": {},
   "source": [
    "### test"
   ]
  },
  {
   "cell_type": "code",
   "execution_count": 24,
   "metadata": {},
   "outputs": [
    {
     "name": "stdout",
     "output_type": "stream",
     "text": [
      "stuff going moment mj started listening music watching odd documentary watched wiz watched moonwalker maybe want get certain insight guy thought really cool eighties maybe make mind whether guilty innocent moonwalker part biography part feature film remember going see cinema originally released subtle messages mj feeling towards press also obvious message drugs bad kay visually impressive course michael jackson unless remotely like mj anyway going hate find boring may call mj egotist consenting making movie mj fans would say made fans true really nice actual feature film bit finally starts minutes excluding smooth criminal sequence joe pesci convincing psychopathic powerful drug lord wants mj dead bad beyond mj overheard plans nah joe pesci character ranted wanted people know supplying drugs etc dunno maybe hates mj music lots cool things like mj turning car robot whole speed demon sequence also director must patience saint came filming kiddy bad sequence usually directors hate working one kid let alone whole bunch performing complex dance scene bottom line movie people like mj one level another think people stay away try give wholesome message ironically mj bestest buddy movie girl michael jackson truly one talented people ever grace planet guilty well attention gave subject hmmm well know people different behind closed doors know fact either extremely nice stupid guy one sickest liars hope latter\n"
     ]
    }
   ],
   "source": [
    "clean_review = review_to_words( train[\"review\"][0] )\n",
    "print(clean_review)"
   ]
  },
  {
   "cell_type": "markdown",
   "metadata": {},
   "source": [
    "## Prepare Training Data for Bag of Words"
   ]
  },
  {
   "cell_type": "code",
   "execution_count": 25,
   "metadata": {
    "collapsed": true
   },
   "outputs": [],
   "source": [
    "clean_train_reviews = []\n",
    "nreviews = train[\"review\"].size\n",
    "\n",
    "for i in range():\n",
    "    if i % 1000 == 0:\n",
    "        print(\"Processing review {}/{}\".format(i,nreviews))\n",
    "    clean_train_reviews.append(review_to_words( train[\"review\"][i] ))"
   ]
  },
  {
   "cell_type": "code",
   "execution_count": 26,
   "metadata": {},
   "outputs": [
    {
     "data": {
      "text/plain": [
       "25000"
      ]
     },
     "execution_count": 26,
     "metadata": {},
     "output_type": "execute_result"
    }
   ],
   "source": [
    "len(clean_train_reviews)"
   ]
  },
  {
   "cell_type": "markdown",
   "metadata": {},
   "source": [
    "# Bag of Words"
   ]
  },
  {
   "cell_type": "code",
   "execution_count": 29,
   "metadata": {
    "collapsed": true
   },
   "outputs": [],
   "source": [
    "vectorizer = CountVectorizer(analyzer = \"word\",\n",
    "                             tokenizer = None,\n",
    "                             preprocessor = None,\n",
    "                             stop_words = None,\n",
    "                             max_features = 5000)\n",
    "train_data_features = vectorizer.fit_transform(clean_train_reviews)"
   ]
  },
  {
   "cell_type": "code",
   "execution_count": 34,
   "metadata": {},
   "outputs": [
    {
     "data": {
      "text/plain": [
       "(25000, 5000)"
      ]
     },
     "execution_count": 34,
     "metadata": {},
     "output_type": "execute_result"
    }
   ],
   "source": [
    "train_data_features.toarray().shape"
   ]
  },
  {
   "cell_type": "code",
   "execution_count": 35,
   "metadata": {},
   "outputs": [
    {
     "name": "stdout",
     "output_type": "stream",
     "text": [
      "[u'abandoned', u'abc', u'abilities', u'ability', u'able', u'abraham', u'absence', u'absent', u'absolute', u'absolutely', u'absurd', u'abuse', u'abusive', u'abysmal', u'academy', u'accent', u'accents', u'accept', u'acceptable', u'accepted', u'access', u'accident', u'accidentally', u'accompanied', u'accomplished', u'according', u'account', u'accuracy', u'accurate', u'accused', u'achieve', u'achieved', u'achievement', u'acid', u'across', u'act', u'acted', u'acting', u'action', u'actions', u'activities', u'actor', u'actors', u'actress', u'actresses', u'acts', u'actual', u'actually', u'ad', u'adam', u'adams', u'adaptation', u'adaptations', u'adapted', u'add', u'added', u'adding', u'addition', u'adds', u'adequate', u'admire', u'admit', u'admittedly', u'adorable', u'adult', u'adults', u'advance', u'advanced', u'advantage', u'adventure', u'adventures', u'advertising', u'advice', u'advise', u'affair', u'affect', u'affected', u'afford', u'aforementioned', u'afraid', u'africa', u'african', u'afternoon', u'afterwards', u'age', u'aged', u'agent', u'agents', u'ages', u'aging', u'ago', u'agree', u'agreed', u'agrees', u'ah', u'ahead', u'aid', u'aids', u'aim', u'aimed', u'air', u'aired', u'airplane', u'airport', u'aka', u'akshay', u'al', u'alan', u'alas', u'albeit', u'albert', u'album', u'alcohol', u'alcoholic', u'alec', u'alert', u'alex', u'alexander', u'alfred', u'alice', u'alicia', u'alien', u'aliens', u'alike', u'alison', u'alive', u'allen', u'allow', u'allowed', u'allowing', u'allows', u'almost', u'alone', u'along', u'alongside', u'already', u'alright', u'also', u'alternate', u'alternative', u'although', u'altman', u'altogether', u'always', u'amanda', u'amateur', u'amateurish', u'amazed', u'amazing', u'amazingly', u'ambiguous', u'ambitious', u'america', u'american', u'americans', u'amitabh', u'among', u'amongst', u'amount', u'amounts', u'amused', u'amusing', u'amy', u'analysis', u'ancient', u'anderson', u'andre', u'andrew', u'andrews', u'andy', u'angel', u'angela', u'angeles', u'angels', u'anger', u'angle', u'angles', u'angry', u'animal', u'animals', u'animated', u'animation', u'anime', u'ann', u'anna', u'anne', u'annie', u'annoyed', u'annoying', u'another', u'answer', u'answers', u'anthony', u'anti', u'antics', u'antonioni', u'antwone', u'anybody', u'anymore', u'anyone', u'anything', u'anyway', u'anyways', u'anywhere', u'apart', u'apartment', u'ape', u'apes', u'appalling', u'apparent', u'apparently', u'appeal', u'appealing', u'appear', u'appearance', u'appearances', u'appeared', u'appearing', u'appears', u'appreciate', u'appreciated', u'appreciation', u'approach', u'appropriate', u'april', u'area', u'areas', u'arguably', u'argue', u'argument', u'arm', u'armed', u'arms', u'army', u'arnold', u'around', u'arrested', u'arrival', u'arrive', u'arrived', u'arrives', u'arrogant', u'art', u'arthur', u'artificial', u'artist', u'artistic', u'artists', u'arts', u'ashamed', u'ashley', u'asian', u'aside', u'ask', u'asked', u'asking', u'asks', u'asleep', u'aspect', u'aspects', u'ass', u'assassin', u'assault', u'assigned', u'assistant', u'associated', u'assume', u'assumed', u'astaire', u'astonishing', u'atlantis', u'atmosphere', u'atmospheric', u'atrocious', u'attached', u'attack', u'attacked', u'attacks', u'attempt', u'attempted', u'attempting', u'attempts', u'attend', u'attention', u'attitude', u'attitudes', u'attorney', u'attracted', u'attraction', u'attractive', u'audience', u'audiences', u'audio', u'aunt', u'austen', u'austin', u'australia', u'australian', u'authentic', u'author', u'authority', u'available', u'average', u'avoid', u'avoided', u'awake', u'award', u'awards', u'aware', u'away', u'awe', u'awesome', u'awful', u'awfully', u'awhile', u'awkward', u'babe', u'baby', u'bacall', u'back', u'backdrop', u'background', u'backgrounds', u'bad', u'badly', u'bag', u'baker', u'bakshi', u'balance', u'baldwin', u'ball', u'ballet', u'balls', u'band', u'bands', u'bang', u'bank', u'banned', u'bar', u'barbara', u'bare', u'barely', u'bargain', u'barry', u'barrymore', u'base', u'baseball', u'based', u'basement', u'basic', u'basically', u'basis', u'basketball', u'bat', u'bath', u'bathroom', u'batman', u'battle', u'battles', u'bay', u'bbc', u'beach', u'bear', u'bears', u'beast', u'beat', u'beaten', u'beating', u'beats', u'beatty', u'beautiful', u'beautifully', u'beauty', u'became', u'become', u'becomes', u'becoming', u'bed', u'bedroom', u'beer', u'began', u'begin', u'beginning', u'begins', u'behave', u'behavior', u'behind', u'beings', u'bela', u'belief', u'beliefs', u'believable', u'believe', u'believed', u'believes', u'believing', u'bell', u'belong', u'belongs', u'beloved', u'belushi', u'ben', u'beneath', u'benefit', u'bergman', u'berlin', u'besides', u'best', u'bet', u'bette', u'better', u'bettie', u'betty', u'beyond', u'bible', u'big', u'bigger', u'biggest', u'biko', u'bill', u'billed', u'billy', u'bin', u'biography', u'bird', u'birds', u'birth', u'birthday', u'bit', u'bite', u'bits', u'bitter', u'bizarre', u'black', u'blade', u'blah', u'blair', u'blake', u'blame', u'bland', u'blank', u'blast', u'blatant', u'bleak', u'blend', u'blew', u'blind', u'blob', u'block', u'blockbuster', u'blond', u'blonde', u'blood', u'bloody', u'blow', u'blowing', u'blown', u'blows', u'blue', u'blues', u'blunt', u'bo', u'board', u'boat', u'bob', u'bobby', u'bodies', u'body', u'bold', u'boll', u'bollywood', u'bomb', u'bond', u'bone', u'bonus', u'book', u'books', u'boom', u'boot', u'border', u'bore', u'bored', u'boredom', u'boring', u'born', u'borrowed', u'boss', u'bother', u'bothered', u'bottle', u'bottom', u'bought', u'bound', u'bourne', u'box', u'boxing', u'boy', u'boyfriend', u'boyle', u'boys', u'brad', u'brady', u'brain', u'brains', u'branagh', u'brand', u'brando', u'brave', u'brazil', u'break', u'breaking', u'breaks', u'breasts', u'breath', u'breathtaking', u'brenda', u'brian', u'bride', u'bridge', u'brief', u'briefly', u'bright', u'brilliance', u'brilliant', u'brilliantly', u'bring', u'bringing', u'brings', u'britain', u'british', u'broad', u'broadcast', u'broadway', u'broke', u'broken', u'brooklyn', u'brooks', u'brosnan', u'brother', u'brothers', u'brought', u'brown', u'bruce', u'brutal', u'brutality', u'brutally', u'buck', u'bucks', u'bud', u'buddies', u'buddy', u'budget', u'buff', u'buffalo', u'buffs', u'bug', u'bugs', u'build', u'building', u'buildings', u'builds', u'built', u'bull', u'bullet', u'bullets', u'bumbling', u'bunch', u'bunny', u'buried', u'burn', u'burned', u'burning', u'burns', u'burt', u'burton', u'bus', u'bush', u'business', u'businessman', u'buster', u'busy', u'butler', u'butt', u'button', u'buy', u'buying', u'cabin', u'cable', u'cage', u'cagney', u'caine', u'cake', u'caliber', u'california', u'call', u'called', u'calling', u'calls', u'calm', u'came', u'cameo', u'cameos', u'camera', u'cameras', u'cameron', u'camp', u'campbell', u'campy', u'canada', u'canadian', u'candy', u'cannibal', u'cannot', u'cant', u'capable', u'capital', u'captain', u'captivating', u'capture', u'captured', u'captures', u'capturing', u'car', u'card', u'cardboard', u'cards', u'care', u'cared', u'career', u'careers', u'careful', u'carefully', u'carell', u'cares', u'caring', u'carl', u'carla', u'carol', u'carpenter', u'carradine', u'carrey', u'carrie', u'carried', u'carries', u'carry', u'carrying', u'cars', u'carter', u'cartoon', u'cartoons', u'cary', u'case', u'cases', u'cash', u'cassidy', u'cast', u'casting', u'castle', u'cat', u'catch', u'catches', u'catching', u'catchy', u'category', u'catherine', u'catholic', u'cats', u'caught', u'cause', u'caused', u'causes', u'causing', u'cave', u'cd', u'celebrity', u'cell', u'celluloid', u'center', u'centered', u'centers', u'central', u'century', u'certain', u'certainly', u'cg', u'cgi', u'chain', u'chair', u'challenge', u'challenging', u'championship', u'chan', u'chance', u'chances', u'change', u'changed', u'changes', u'changing', u'channel', u'channels', u'chaos', u'chaplin', u'chapter', u'character', u'characterization', u'characters', u'charge', u'charisma', u'charismatic', u'charles', u'charlie', u'charlotte', u'charm', u'charming', u'chase', u'chased', u'chases', u'chasing', u'che', u'cheap', u'cheated', u'cheating', u'check', u'checked', u'checking', u'cheek', u'cheese', u'cheesy', u'chemistry', u'chess', u'chest', u'chicago', u'chick', u'chicken', u'chicks', u'chief', u'child', u'childhood', u'childish', u'children', u'chilling', u'china', u'chinese', u'choice', u'choices', u'choose', u'chooses', u'choreographed', u'choreography', u'chorus', u'chose', u'chosen', u'chris', u'christ', u'christian', u'christianity', u'christians', u'christmas', u'christopher', u'christy', u'chuck', u'church', u'cia', u'cinderella', u'cinema', u'cinematic', u'cinematographer', u'cinematography', u'circle', u'circumstances', u'cities', u'citizen', u'city', u'civil', u'civilization', u'claim', u'claimed', u'claims', u'claire', u'clark', u'class', u'classes', u'classic', u'classical', u'classics', u'claus', u'clean', u'clear', u'clearly', u'clever', u'cleverly', u'clich', u'cliche', u'cliff', u'climactic', u'climax', u'clint', u'clip', u'clips', u'clock', u'close', u'closed', u'closely', u'closer', u'closest', u'closet', u'closing', u'clothes', u'clothing', u'clown', u'club', u'clue', u'clues', u'clumsy', u'co', u'coach', u'coast', u'code', u'coffee', u'coherent', u'cold', u'cole', u'collection', u'college', u'colonel', u'color', u'colorful', u'colors', u'colour', u'columbo', u'com', u'combat', u'combination', u'combine', u'combined', u'come', u'comedian', u'comedic', u'comedies', u'comedy', u'comes', u'comfort', u'comfortable', u'comic', u'comical', u'comics', u'coming', u'command', u'comment', u'commentary', u'commented', u'comments', u'commercial', u'commercials', u'commit', u'committed', u'common', u'communist', u'community', u'companies', u'companion', u'company', u'compare', u'compared', u'comparing', u'comparison', u'compassion', u'compelled', u'compelling', u'competent', u'competition', u'complain', u'complaint', u'complete', u'completely', u'complex', u'complexity', u'complicated', u'composed', u'composer', u'computer', u'con', u'conceived', u'concept', u'concern', u'concerned', u'concerning', u'concerns', u'concert', u'conclusion', u'condition', u'conditions', u'confess', u'confidence', u'conflict', u'conflicts', u'confrontation', u'confused', u'confusing', u'confusion', u'connect', u'connected', u'connection', u'connery', u'conscious', u'consequences', u'conservative', u'consider', u'considerable', u'considered', u'considering', u'consistent', u'consistently', u'consists', u'conspiracy', u'constant', u'constantly', u'constructed', u'construction', u'contact', u'contain', u'contained', u'contains', u'contemporary', u'content', u'contest', u'context', u'continue', u'continued', u'continues', u'continuity', u'contract', u'contrary', u'contrast', u'contrived', u'control', u'controversial', u'conventional', u'conversation', u'conversations', u'convey', u'convince', u'convinced', u'convincing', u'convincingly', u'convoluted', u'cook', u'cool', u'cooper', u'cop', u'copies', u'cops', u'copy', u'core', u'corner', u'corny', u'corporate', u'corpse', u'correct', u'correctly', u'corrupt', u'corruption', u'cost', u'costs', u'costume', u'costumes', u'could', u'count', u'counter', u'countless', u'countries', u'country', u'countryside', u'couple', u'couples', u'courage', u'course', u'court', u'cousin', u'cover', u'covered', u'covers', u'cowboy', u'cox', u'crack', u'cracking', u'craft', u'crafted', u'craig', u'crap', u'crappy', u'crash', u'craven', u'crawford', u'crazed', u'crazy', u'cream', u'create', u'created', u'creates', u'creating', u'creation', u'creative', u'creativity', u'creator', u'creators', u'creature', u'creatures', u'credibility', u'credible', u'credit', u'credits', u'creep', u'creepy', u'crew', u'cried', u'crime', u'crimes', u'criminal', u'criminals', u'cringe', u'crisis', u'critic', u'critical', u'criticism', u'critics', u'crocodile', u'cross', u'crowd', u'crucial', u'crude', u'cruel', u'cruise', u'crush', u'cry', u'crying', u'crystal', u'cuba', u'cube', u'cult', u'cultural', u'culture', u'cup', u'cure', u'curiosity', u'curious', u'current', u'currently', u'curse', u'curtis', u'cusack', u'cut', u'cute', u'cuts', u'cutting', u'cynical', u'da', u'dad', u'daddy', u'daily', u'dalton', u'damage', u'damme', u'damn', u'damon', u'dan', u'dana', u'dance', u'dancer', u'dancers', u'dances', u'dancing', u'danes', u'danger', u'dangerous', u'daniel', u'danny', u'dare', u'daring', u'dark', u'darker', u'darkness', u'darren', u'date', u'dated', u'dating', u'daughter', u'daughters', u'dave', u'david', u'davies', u'davis', u'dawn', u'dawson', u'day', u'days', u'de', u'dead', u'deadly', u'deaf', u'deal', u'dealing', u'deals', u'dealt', u'dean', u'dear', u'death', u'deaths', u'debut', u'decade', u'decades', u'deceased', u'decent', u'decide', u'decided', u'decides', u'decision', u'decisions', u'dedicated', u'dee', u'deep', u'deeper', u'deeply', u'defeat', u'defend', u'defense', u'defined', u'definite', u'definitely', u'definition', u'degree', u'del', u'deliberately', u'delight', u'delightful', u'deliver', u'delivered', u'delivering', u'delivers', u'delivery', u'demand', u'demands', u'demented', u'demise', u'demon', u'demons', u'deniro', u'dennis', u'dentist', u'denzel', u'department', u'depicted', u'depicting', u'depiction', u'depicts', u'depressed', u'depressing', u'depression', u'depth', u'der', u'derek', u'descent', u'describe', u'described', u'describes', u'description', u'desert', u'deserve', u'deserved', u'deserves', u'design', u'designed', u'designs', u'desire', u'desired', u'despair', u'desperate', u'desperately', u'desperation', u'despite', u'destiny', u'destroy', u'destroyed', u'destroying', u'destruction', u'detail', u'detailed', u'details', u'detective', u'determined', u'develop', u'developed', u'developing', u'development', u'develops', u'device', u'devil', u'devoid', u'devoted', u'dialog', u'dialogs', u'dialogue', u'dialogues', u'diamond', u'diana', u'diane', u'dick', u'dickens', u'die', u'died', u'dies', u'difference', u'differences', u'different', u'difficult', u'dig', u'digital', u'dignity', u'dimension', u'dimensional', u'din', u'dinner', u'dinosaur', u'dinosaurs', u'dire', u'direct', u'directed', u'directing', u'direction', u'directions', u'directly', u'director', u'directorial', u'directors', u'directs', u'dirty', u'disagree', u'disappear', u'disappeared', u'disappoint', u'disappointed', u'disappointing', u'disappointment', u'disaster', u'disbelief', u'disc', u'discover', u'discovered', u'discovers', u'discovery', u'discuss', u'discussion', u'disease', u'disgusting', u'disjointed', u'dislike', u'disliked', u'disney', u'display', u'displayed', u'displays', u'distance', u'distant', u'distinct', u'distracting', u'distribution', u'disturbed', u'disturbing', u'divorce', u'dixon', u'doc', u'doctor', u'documentaries', u'documentary', u'dog', u'dogs', u'doll', u'dollar', u'dollars', u'dolls', u'dolph', u'domestic', u'domino', u'donald', u'done', u'donna', u'doo', u'doom', u'doomed', u'door', u'doors', u'dorothy', u'double', u'doubt', u'doubts', u'douglas', u'downey', u'downhill', u'downright', u'dozen', u'dozens', u'dr', u'dracula', u'drag', u'dragged', u'dragon', u'drags', u'drake', u'drama', u'dramas', u'dramatic', u'draw', u'drawing', u'drawn', u'draws', u'dreadful', u'dream', u'dreams', u'dreary', u'dreck', u'dress', u'dressed', u'dressing', u'drew', u'drink', u'drinking', u'drive', u'drivel', u'driven', u'driver', u'drives', u'driving', u'drop', u'dropped', u'dropping', u'drops', u'drug', u'drugs', u'drunk', u'drunken', u'dry', u'dub', u'dubbed', u'dubbing', u'dud', u'dude', u'due', u'duke', u'dull', u'dumb', u'duo', u'dust', u'dutch', u'duty', u'dvd', u'dying', u'dynamic', u'eager', u'ear', u'earl', u'earlier', u'early', u'earned', u'ears', u'earth', u'ease', u'easier', u'easily', u'east', u'eastern', u'eastwood', u'easy', u'eat', u'eaten', u'eating', u'eccentric', u'ed', u'eddie', u'edgar', u'edge', u'edgy', u'edie', u'edited', u'editing', u'edition', u'editor', u'education', u'educational', u'edward', u'eerie', u'effect', u'effective', u'effectively', u'effects', u'effort', u'efforts', u'ego', u'eight', u'eighties', u'either', u'elaborate', u'elderly', u'elegant', u'element', u'elements', u'elephant', u'elizabeth', u'ellen', u'elm', u'else', u'elsewhere', u'elvira', u'elvis', u'em', u'embarrassed', u'embarrassing', u'embarrassment', u'emily', u'emma', u'emotion', u'emotional', u'emotionally', u'emotions', u'empathy', u'emperor', u'emphasis', u'empire', u'empty', u'en', u'encounter', u'encounters', u'end', u'endearing', u'ended', u'ending', u'endings', u'endless', u'ends', u'endure', u'enemies', u'enemy', u'energy', u'engage', u'engaged', u'engaging', u'england', u'english', u'enjoy', u'enjoyable', u'enjoyed', u'enjoying', u'enjoyment', u'enjoys', u'enormous', u'enough', u'ensemble', u'ensues', u'enter', u'enterprise', u'enters', u'entertain', u'entertained', u'entertaining', u'entertainment', u'enthusiasm', u'entire', u'entirely', u'entry', u'environment', u'epic', u'episode', u'episodes', u'equal', u'equally', u'equipment', u'equivalent', u'er', u'era', u'eric', u'erotic', u'errors', u'escape', u'escaped', u'escapes', u'especially', u'essence', u'essential', u'essentially', u'established', u'estate', u'et', u'etc', u'ethan', u'eugene', u'europe', u'european', u'eva', u'eve', u'even', u'evening', u'event', u'events', u'eventually', u'ever', u'every', u'everybody', u'everyday', u'everyone', u'everything', u'everywhere', u'evidence', u'evident', u'evil', u'ex', u'exact', u'exactly', u'exaggerated', u'examination', u'example', u'examples', u'excellent', u'except', u'exception', u'exceptional', u'exceptionally', u'excessive', u'exchange', u'excited', u'excitement', u'exciting', u'excuse', u'executed', u'execution', u'executive', u'exercise', u'exist', u'existed', u'existence', u'existent', u'exists', u'exotic', u'expect', u'expectations', u'expected', u'expecting', u'expedition', u'expensive', u'experience', u'experienced', u'experiences', u'experiment', u'experimental', u'experiments', u'expert', u'explain', u'explained', u'explaining', u'explains', u'explanation', u'explicit', u'exploitation', u'exploration', u'explore', u'explored', u'explosion', u'explosions', u'exposed', u'exposure', u'express', u'expressed', u'expression', u'expressions', u'extended', u'extent', u'extra', u'extraordinary', u'extras', u'extreme', u'extremely', u'eye', u'eyed', u'eyes', u'eyre', u'fabulous', u'face', u'faced', u'faces', u'facial', u'facing', u'fact', u'factor', u'factory', u'facts', u'fail', u'failed', u'failing', u'fails', u'failure', u'fair', u'fairly', u'fairy', u'faith', u'faithful', u'fake', u'falk', u'fall', u'fallen', u'falling', u'falls', u'false', u'fame', u'familiar', u'families', u'family', u'famous', u'fan', u'fancy', u'fans', u'fantastic', u'fantasy', u'far', u'farce', u'fare', u'farm', u'farrell', u'fascinated', u'fascinating', u'fashion', u'fashioned', u'fast', u'faster', u'fat', u'fatal', u'fate', u'father', u'fault', u'faults', u'favor', u'favorite', u'favorites', u'favourite', u'fay', u'fbi', u'fear', u'fears', u'feature', u'featured', u'features', u'featuring', u'fed', u'feed', u'feel', u'feeling', u'feelings', u'feels', u'feet', u'felix', u'fell', u'fellow', u'felt', u'female', u'feminist', u'femme', u'fest', u'festival', u'fetched', u'fever', u'fi', u'fianc', u'fiction', u'fictional', u'fido', u'field', u'fields', u'fifteen', u'fight', u'fighter', u'fighting', u'fights', u'figure', u'figured', u'figures', u'files', u'fill', u'filled', u'film', u'filmed', u'filming', u'filmmaker', u'filmmakers', u'films', u'final', u'finale', u'finally', u'financial', u'find', u'finding', u'finds', u'fine', u'finest', u'finger', u'finish', u'finished', u'fire', u'fired', u'firm', u'first', u'firstly', u'fish', u'fisher', u'fishing', u'fit', u'fits', u'fitting', u'five', u'fix', u'flair', u'flash', u'flashback', u'flashbacks', u'flat', u'flaw', u'flawed', u'flawless', u'flaws', u'flesh', u'flick', u'flicks', u'flies', u'flight', u'floating', u'floor', u'flop', u'florida', u'flow', u'fly', u'flying', u'flynn', u'focus', u'focused', u'focuses', u'focusing', u'folk', u'folks', u'follow', u'followed', u'following', u'follows', u'fond', u'fonda', u'food', u'fool', u'fooled', u'foot', u'footage', u'football', u'forbidden', u'force', u'forced', u'forces', u'ford', u'foreign', u'forest', u'forever', u'forget', u'forgettable', u'forgive', u'forgot', u'forgotten', u'form', u'format', u'former', u'forms', u'formula', u'formulaic', u'forth', u'fortunately', u'fortune', u'forty', u'forward', u'foster', u'fought', u'foul', u'found', u'four', u'fourth', u'fox', u'frame', u'france', u'franchise', u'francis', u'francisco', u'franco', u'frank', u'frankenstein', u'frankie', u'frankly', u'freak', u'fred', u'freddy', u'free', u'freedom', u'freeman', u'french', u'frequent', u'frequently', u'fresh', u'friday', u'friend', u'friendly', u'friends', u'friendship', u'frightening', u'front', u'frustrated', u'frustrating', u'frustration', u'fu', u'fulci', u'full', u'fuller', u'fully', u'fun', u'funeral', u'funnier', u'funniest', u'funny', u'furious', u'furthermore', u'fury', u'future', u'futuristic', u'fx', u'gabriel', u'gadget', u'gag', u'gags', u'gain', u'game', u'games', u'gandhi', u'gang', u'gangster', u'gangsters', u'garbage', u'garbo', u'garden', u'gary', u'gas', u'gave', u'gay', u'gem', u'gender', u'gene', u'general', u'generally', u'generated', u'generation', u'generations', u'generic', u'generous', u'genius', u'genre', u'genres', u'gentle', u'gentleman', u'genuine', u'genuinely', u'george', u'gerard', u'german', u'germans', u'germany', u'get', u'gets', u'getting', u'ghost', u'ghosts', u'giallo', u'giant', u'gift', u'gifted', u'ginger', u'girl', u'girlfriend', u'girls', u'give', u'given', u'gives', u'giving', u'glad', u'glass', u'glasses', u'glenn', u'glimpse', u'global', u'glorious', u'glory', u'glover', u'go', u'goal', u'god', u'godfather', u'godzilla', u'goes', u'going', u'gold', u'goldberg', u'golden', u'gone', u'gonna', u'good', u'goodness', u'goofy', u'gordon', u'gore', u'gorgeous', u'gory', u'got', u'gothic', u'gotta', u'gotten', u'government', u'grab', u'grabs', u'grace', u'grade', u'gradually', u'graham', u'grand', u'grandfather', u'grandmother', u'grant', u'granted', u'graphic', u'graphics', u'grasp', u'gratuitous', u'grave', u'gray', u'grayson', u'great', u'greater', u'greatest', u'greatly', u'greatness', u'greed', u'greedy', u'greek', u'green', u'greg', u'gregory', u'grew', u'grey', u'grief', u'griffith', u'grim', u'grinch', u'gripping', u'gritty', u'gross', u'ground', u'group', u'groups', u'grow', u'growing', u'grown', u'grows', u'gruesome', u'guarantee', u'guard', u'guess', u'guessed', u'guessing', u'guest', u'guide', u'guilt', u'guilty', u'gun', u'gundam', u'guns', u'guts', u'guy', u'guys', u'ha', u'hair', u'hal', u'half', u'halfway', u'hall', u'halloween', u'ham', u'hamilton', u'hamlet', u'hammer', u'hand', u'handed', u'handful', u'handle', u'handled', u'hands', u'handsome', u'hang', u'hanging', u'hank', u'hanks', u'happen', u'happened', u'happening', u'happens', u'happily', u'happiness', u'happy', u'hard', u'hardcore', u'harder', u'hardly', u'hardy', u'harm', u'harris', u'harry', u'harsh', u'hart', u'hartley', u'harvey', u'hat', u'hate', u'hated', u'hates', u'hatred', u'haunted', u'haunting', u'hawke', u'hbo', u'head', u'headed', u'heads', u'health', u'hear', u'heard', u'hearing', u'heart', u'hearted', u'hearts', u'heat', u'heaven', u'heavily', u'heavy', u'heck', u'heights', u'held', u'helen', u'helicopter', u'hell', u'hello', u'help', u'helped', u'helping', u'helps', u'hence', u'henry', u'hero', u'heroes', u'heroic', u'heroine', u'heston', u'hey', u'hidden', u'hide', u'hideous', u'hiding', u'high', u'higher', u'highest', u'highlight', u'highlights', u'highly', u'hilarious', u'hilariously', u'hill', u'hills', u'hint', u'hints', u'hip', u'hippie', u'hire', u'hired', u'historical', u'historically', u'history', u'hit', u'hitchcock', u'hitler', u'hits', u'hitting', u'ho', u'hoffman', u'hold', u'holding', u'holds', u'hole', u'holes', u'holiday', u'hollow', u'holly', u'hollywood', u'holmes', u'holy', u'homage', u'home', u'homeless', u'homer', u'homosexual', u'honest', u'honestly', u'honesty', u'hong', u'honor', u'hood', u'hook', u'hooked', u'hop', u'hope', u'hoped', u'hopefully', u'hopeless', u'hopes', u'hoping', u'hopper', u'horrendous', u'horrible', u'horribly', u'horrid', u'horrific', u'horrifying', u'horror', u'horrors', u'horse', u'horses', u'hospital', u'host', u'hot', u'hotel', u'hour', u'hours', u'house', u'household', u'houses', u'howard', u'however', u'hudson', u'huge', u'hugh', u'huh', u'human', u'humanity', u'humans', u'humble', u'humor', u'humorous', u'humour', u'hundred', u'hundreds', u'hung', u'hunt', u'hunter', u'hunters', u'hunting', u'hurt', u'hurts', u'husband', u'husbands', u'hyde', u'hype', u'hysterical', u'ian', u'ice', u'icon', u'idea', u'ideal', u'ideas', u'identify', u'identity', u'idiot', u'idiotic', u'idiots', u'ignorant', u'ignore', u'ignored', u'ii', u'iii', u'ill', u'illegal', u'illness', u'illogical', u'im', u'image', u'imagery', u'images', u'imagination', u'imaginative', u'imagine', u'imagined', u'imdb', u'imitation', u'immediate', u'immediately', u'immensely', u'impact', u'implausible', u'importance', u'important', u'importantly', u'impossible', u'impress', u'impressed', u'impression', u'impressive', u'improve', u'improved', u'improvement', u'inability', u'inane', u'inappropriate', u'incident', u'include', u'included', u'includes', u'including', u'incoherent', u'incompetent', u'incomprehensible', u'increasingly', u'incredible', u'incredibly', u'indeed', u'independent', u'india', u'indian', u'indians', u'indie', u'individual', u'individuals', u'inducing', u'indulgent', u'industry', u'inept', u'inevitable', u'inevitably', u'infamous', u'inferior', u'influence', u'influenced', u'information', u'ingredients', u'initial', u'initially', u'inner', u'innocence', u'innocent', u'innovative', u'insane', u'inside', u'insight', u'inspector', u'inspiration', u'inspired', u'inspiring', u'installment', u'instance', u'instant', u'instantly', u'instead', u'instinct', u'insult', u'insulting', u'integrity', u'intellectual', u'intelligence', u'intelligent', u'intended', u'intense', u'intensity', u'intent', u'intention', u'intentionally', u'intentions', u'interaction', u'interest', u'interested', u'interesting', u'interests', u'international', u'internet', u'interpretation', u'interview', u'interviews', u'intimate', u'intrigue', u'intrigued', u'intriguing', u'introduce', u'introduced', u'introduces', u'introduction', u'invasion', u'invented', u'inventive', u'investigate', u'investigation', u'invisible', u'involve', u'involved', u'involvement', u'involves', u'involving', u'iran', u'iraq', u'ireland', u'irish', u'iron', u'ironic', u'ironically', u'irony', u'irrelevant', u'irritating', u'island', u'isolated', u'israel', u'issue', u'issues', u'italian', u'italy', u'jack', u'jackie', u'jackson', u'jail', u'jake', u'james', u'jamie', u'jane', u'japan', u'japanese', u'jason', u'jaw', u'jaws', u'jay', u'jazz', u'jealous', u'jean', u'jeff', u'jeffrey', u'jennifer', u'jenny', u'jeremy', u'jerk', u'jerry', u'jesse', u'jessica', u'jesus', u'jet', u'jewish', u'jim', u'jimmy', u'joan', u'job', u'jobs', u'joe', u'joel', u'joey', u'john', u'johnny', u'johnson', u'join', u'joined', u'joke', u'jokes', u'jon', u'jonathan', u'jones', u'joseph', u'josh', u'journalist', u'journey', u'joy', u'jr', u'judge', u'judging', u'judy', u'julia', u'julian', u'julie', u'jump', u'jumped', u'jumping', u'jumps', u'june', u'jungle', u'junior', u'junk', u'justice', u'justify', u'justin', u'juvenile', u'kane', u'kansas', u'kapoor', u'karen', u'karloff', u'kate', u'kay', u'keaton', u'keep', u'keeping', u'keeps', u'keith', u'kelly', u'ken', u'kennedy', u'kenneth', u'kept', u'kevin', u'key', u'khan', u'kick', u'kicked', u'kicking', u'kicks', u'kid', u'kidding', u'kidnapped', u'kids', u'kill', u'killed', u'killer', u'killers', u'killing', u'killings', u'kills', u'kim', u'kind', u'kinda', u'kinds', u'king', u'kingdom', u'kirk', u'kiss', u'kissing', u'kitchen', u'knew', u'knife', u'knock', u'know', u'knowing', u'knowledge', u'known', u'knows', u'kolchak', u'kong', u'korean', u'kubrick', u'kudos', u'kumar', u'kung', u'kurosawa', u'kurt', u'kyle', u'la', u'lab', u'lack', u'lacked', u'lacking', u'lackluster', u'lacks', u'ladies', u'lady', u'laid', u'lake', u'lame', u'land', u'landing', u'landscape', u'landscapes', u'lane', u'language', u'large', u'largely', u'larger', u'larry', u'last', u'lasted', u'late', u'lately', u'later', u'latest', u'latin', u'latter', u'laugh', u'laughable', u'laughably', u'laughed', u'laughing', u'laughs', u'laughter', u'laura', u'laurel', u'law', u'lawrence', u'laws', u'lawyer', u'lay', u'lazy', u'le', u'lead', u'leader', u'leading', u'leads', u'league', u'learn', u'learned', u'learning', u'learns', u'least', u'leave', u'leaves', u'leaving', u'led', u'lee', u'left', u'leg', u'legacy', u'legal', u'legend', u'legendary', u'legs', u'lemmon', u'lena', u'length', u'lengthy', u'leo', u'leon', u'leonard', u'les', u'lesbian', u'leslie', u'less', u'lesser', u'lesson', u'lessons', u'let', u'lets', u'letter', u'letters', u'letting', u'level', u'levels', u'lewis', u'li', u'liberal', u'library', u'lie', u'lies', u'life', u'lifestyle', u'lifetime', u'light', u'lighting', u'lights', u'likable', u'like', u'liked', u'likely', u'likes', u'likewise', u'liking', u'lily', u'limited', u'limits', u'lincoln', u'linda', u'line', u'liners', u'lines', u'link', u'lion', u'lips', u'lisa', u'list', u'listed', u'listen', u'listening', u'lit', u'literally', u'literature', u'little', u'live', u'lived', u'lively', u'lives', u'living', u'lloyd', u'load', u'loaded', u'loads', u'local', u'location', u'locations', u'locked', u'logan', u'logic', u'logical', u'lol', u'london', u'lone', u'lonely', u'long', u'longer', u'look', u'looked', u'looking', u'looks', u'loose', u'loosely', u'lord', u'los', u'lose', u'loser', u'losers', u'loses', u'losing', u'loss', u'lost', u'lot', u'lots', u'lou', u'loud', u'louis', u'louise', u'lousy', u'lovable', u'love', u'loved', u'lovely', u'lover', u'lovers', u'loves', u'loving', u'low', u'lower', u'lowest', u'loyal', u'loyalty', u'lucas', u'luck', u'luckily', u'lucky', u'lucy', u'ludicrous', u'lugosi', u'luke', u'lumet', u'lundgren', u'lust', u'lying', u'lynch', u'lyrics', u'macarthur', u'machine', u'machines', u'macy', u'mad', u'made', u'madness', u'madonna', u'mafia', u'magazine', u'maggie', u'magic', u'magical', u'magnificent', u'maid', u'mail', u'main', u'mainly', u'mainstream', u'maintain', u'major', u'majority', u'make', u'maker', u'makers', u'makes', u'makeup', u'making', u'male', u'mall', u'malone', u'man', u'manage', u'managed', u'manager', u'manages', u'manhattan', u'maniac', u'manipulative', u'mankind', u'mann', u'manner', u'mansion', u'many', u'map', u'marc', u'march', u'margaret', u'maria', u'marie', u'mario', u'marion', u'mark', u'market', u'marketing', u'marks', u'marriage', u'married', u'marry', u'mars', u'marshall', u'martial', u'martin', u'marty', u'marvelous', u'mary', u'mask', u'masks', u'mass', u'massacre', u'masses', u'massive', u'master', u'masterful', u'masterpiece', u'masterpieces', u'masters', u'match', u'matched', u'matches', u'mate', u'material', u'matrix', u'matt', u'matter', u'matters', u'matthau', u'matthew', u'mature', u'max', u'may', u'maybe', u'mayor', u'mclaglen', u'mean', u'meaning', u'meaningful', u'meaningless', u'means', u'meant', u'meanwhile', u'measure', u'meat', u'mechanical', u'media', u'medical', u'mediocre', u'medium', u'meet', u'meeting', u'meets', u'mel', u'melodrama', u'melodramatic', u'melting', u'member', u'members', u'memorable', u'memories', u'memory', u'men', u'menace', u'menacing', u'mental', u'mentally', u'mention', u'mentioned', u'mentioning', u'mentions', u'mere', u'merely', u'merit', u'merits', u'meryl', u'mess', u'message', u'messages', u'messed', u'met', u'metal', u'metaphor', u'method', u'methods', u'mexican', u'mexico', u'mgm', u'michael', u'michelle', u'mickey', u'mid', u'middle', u'midnight', u'might', u'mighty', u'miike', u'mike', u'mild', u'mildly', u'mildred', u'mile', u'miles', u'military', u'milk', u'mill', u'miller', u'million', u'millionaire', u'millions', u'min', u'mind', u'minded', u'mindless', u'minds', u'mine', u'mini', u'minimal', u'minimum', u'minor', u'minute', u'minutes', u'miracle', u'mirror', u'miscast', u'miserable', u'miserably', u'misery', u'miss', u'missed', u'misses', u'missing', u'mission', u'mistake', u'mistaken', u'mistakes', u'mistress', u'mitchell', u'mix', u'mixed', u'mixture', u'miyazaki', u'mm', u'mob', u'model', u'models', u'modern', u'modesty', u'molly', u'mom', u'moment', u'moments', u'mon', u'money', u'monk', u'monkey', u'monkeys', u'monster', u'monsters', u'montage', u'montana', u'month', u'months', u'mood', u'moody', u'moon', u'moore', u'moral', u'morality', u'morgan', u'morning', u'moronic', u'morris', u'mostly', u'mother', u'motion', u'motivation', u'motivations', u'motives', u'mountain', u'mountains', u'mouse', u'mouth', u'move', u'moved', u'movement', u'movements', u'moves', u'movie', u'movies', u'moving', u'mr', u'mrs', u'ms', u'mst', u'mtv', u'much', u'multi', u'multiple', u'mummy', u'mundane', u'murder', u'murdered', u'murderer', u'murderous', u'murders', u'murphy', u'murray', u'museum', u'music', u'musical', u'musicals', u'muslim', u'must', u'myers', u'mysteries', u'mysterious', u'mystery', u'nail', u'naive', u'naked', u'name', u'named', u'namely', u'names', u'nancy', u'narration', u'narrative', u'narrator', u'nasty', u'nathan', u'nation', u'national', u'native', u'natural', u'naturally', u'nature', u'navy', u'nazi', u'nazis', u'nd', u'near', u'nearby', u'nearly', u'neat', u'necessarily', u'necessary', u'neck', u'ned', u'need', u'needed', u'needless', u'needs', u'negative', u'neighbor', u'neighborhood', u'neighbors', u'neil', u'neither', u'nelson', u'neo', u'nephew', u'nerd', u'nervous', u'network', u'never', u'nevertheless', u'new', u'newly', u'newman', u'news', u'newspaper', u'next', u'nice', u'nicely', u'nicholas', u'nicholson', u'nick', u'nicole', u'night', u'nightmare', u'nightmares', u'nights', u'nine', u'ninja', u'niro', u'noble', u'nobody', u'noir', u'noise', u'nominated', u'nomination', u'non', u'none', u'nonetheless', u'nonsense', u'nonsensical', u'normal', u'normally', u'norman', u'north', u'nose', u'nostalgia', u'nostalgic', u'notable', u'notably', u'notch', u'note', u'noted', u'notes', u'nothing', u'notice', u'noticed', u'notion', u'notorious', u'novak', u'novel', u'novels', u'nowadays', u'nowhere', u'nuclear', u'nude', u'nudity', u'number', u'numbers', u'numerous', u'nurse', u'nuts', u'nyc', u'object', u'objective', u'obnoxious', u'obscure', u'obsessed', u'obsession', u'obvious', u'obviously', u'occasion', u'occasional', u'occasionally', u'occur', u'occurred', u'occurs', u'ocean', u'odd', u'oddly', u'odds', u'offended', u'offensive', u'offer', u'offered', u'offering', u'offers', u'office', u'officer', u'officers', u'official', u'often', u'oh', u'oil', u'ok', u'okay', u'old', u'older', u'oliver', u'olivier', u'ollie', u'omen', u'one', u'ones', u'online', u'onto', u'open', u'opened', u'opening', u'opens', u'opera', u'operation', u'opinion', u'opinions', u'opportunities', u'opportunity', u'opposed', u'opposite', u'orange', u'order', u'ordered', u'orders', u'ordinary', u'original', u'originality', u'originally', u'orleans', u'orson', u'oscar', u'oscars', u'othello', u'others', u'otherwise', u'ought', u'outcome', u'outer', u'outfit', u'outrageous', u'outside', u'outstanding', u'overacting', u'overall', u'overcome', u'overdone', u'overlook', u'overlooked', u'overly', u'overrated', u'overwhelming', u'owen', u'owner', u'oz', u'pace', u'paced', u'pacing', u'pacino', u'pack', u'package', u'packed', u'page', u'paid', u'pain', u'painful', u'painfully', u'paint', u'painted', u'painting', u'pair', u'pal', u'palace', u'palance', u'palma', u'paltrow', u'pamela', u'pan', u'panic', u'pants', u'paper', u'par', u'parallel', u'paranoia', u'parent', u'parents', u'paris', u'park', u'parker', u'parody', u'part', u'particular', u'particularly', u'parties', u'partly', u'partner', u'parts', u'party', u'pass', u'passable', u'passed', u'passes', u'passing', u'passion', u'passionate', u'past', u'pat', u'path', u'pathetic', u'patience', u'patient', u'patients', u'patrick', u'paul', u'paulie', u'pay', u'paying', u'pays', u'peace', u'peak', u'pearl', u'people', u'peoples', u'per', u'perfect', u'perfection', u'perfectly', u'perform', u'performance', u'performances', u'performed', u'performer', u'performers', u'performing', u'performs', u'perhaps', u'period', u'perry', u'person', u'persona', u'personal', u'personalities', u'personality', u'personally', u'persons', u'perspective', u'pet', u'pete', u'peter', u'peters', u'petty', u'pg', u'phantom', u'phil', u'philip', u'philosophical', u'philosophy', u'phone', u'phony', u'photo', u'photographed', u'photographer', u'photography', u'photos', u'physical', u'physically', u'piano', u'pick', u'picked', u'picking', u'picks', u'picture', u'pictures', u'pie', u'piece', u'pieces', u'pierce', u'pig', u'pile', u'pilot', u'pin', u'pink', u'pit', u'pitch', u'pitt', u'pity', u'place', u'placed', u'places', u'plague', u'plain', u'plan', u'plane', u'planet', u'planned', u'planning', u'plans', u'plant', u'plastic', u'plausible', u'play', u'played', u'player', u'players', u'playing', u'plays', u'pleasant', u'pleasantly', u'please', u'pleased', u'pleasure', u'plenty', u'plight', u'plot', u'plots', u'plus', u'poem', u'poetic', u'poetry', u'poignant', u'point', u'pointed', u'pointless', u'points', u'pokemon', u'polanski', u'police', u'polished', u'political', u'politically', u'politics', u'pool', u'poor', u'poorly', u'pop', u'popcorn', u'pops', u'popular', u'popularity', u'population', u'porn', u'porno', u'portion', u'portrait', u'portray', u'portrayal', u'portrayed', u'portraying', u'portrays', u'position', u'positive', u'possessed', u'possibilities', u'possibility', u'possible', u'possibly', u'post', u'poster', u'pot', u'potential', u'potentially', u'poverty', u'powell', u'power', u'powerful', u'powers', u'practically', u'practice', u'praise', u'pre', u'precious', u'predictable', u'prefer', u'pregnant', u'premiere', u'premise', u'prepared', u'prequel', u'presence', u'present', u'presentation', u'presented', u'presents', u'president', u'press', u'pressure', u'preston', u'presumably', u'pretend', u'pretending', u'pretentious', u'pretty', u'prevent', u'preview', u'previous', u'previously', u'prey', u'price', u'priceless', u'pride', u'priest', u'primarily', u'primary', u'prime', u'prince', u'princess', u'principal', u'print', u'prior', u'prison', u'prisoner', u'prisoners', u'private', u'prize', u'pro', u'probably', u'problem', u'problems', u'proceedings', u'proceeds', u'process', u'produce', u'produced', u'producer', u'producers', u'producing', u'product', u'production', u'productions', u'professional', u'professor', u'profound', u'program', u'progress', u'progresses', u'project', u'projects', u'prom', u'promise', u'promised', u'promises', u'promising', u'proof', u'propaganda', u'proper', u'properly', u'property', u'props', u'prostitute', u'protagonist', u'protagonists', u'protect', u'proud', u'prove', u'proved', u'proves', u'provide', u'provided', u'provides', u'providing', u'provoking', u'pseudo', u'psychiatrist', u'psychic', u'psycho', u'psychological', u'psychotic', u'public', u'pull', u'pulled', u'pulling', u'pulls', u'pulp', u'punch', u'punishment', u'punk', u'puppet', u'purchase', u'purchased', u'pure', u'purely', u'purple', u'purpose', u'purposes', u'pursuit', u'push', u'pushed', u'pushing', u'put', u'puts', u'putting', u'qualities', u'quality', u'queen', u'quest', u'question', u'questionable', u'questions', u'quick', u'quickly', u'quiet', u'quinn', u'quirky', u'quit', u'quite', u'quote', u'quotes', u'rabbit', u'race', u'rachel', u'racial', u'racism', u'racist', u'radio', u'rage', u'rain', u'raines', u'raise', u'raised', u'raising', u'ralph', u'rambo', u'ramones', u'ran', u'random', u'randomly', u'randy', u'range', u'rangers', u'rank', u'ranks', u'rap', u'rape', u'raped', u'rare', u'rarely', u'rat', u'rate', u'rated', u'rather', u'rating', u'ratings', u'rats', u'rave', u'raw', u'ray', u'raymond', u'rd', u'reach', u'reached', u'reaches', u'reaching', u'react', u'reaction', u'reactions', u'read', u'reader', u'reading', u'reads', u'ready', u'real', u'realise', u'realism', u'realistic', u'reality', u'realize', u'realized', u'realizes', u'realizing', u'really', u'reason', u'reasonable', u'reasonably', u'reasons', u'rebel', u'recall', u'receive', u'received', u'receives', u'recent', u'recently', u'recognition', u'recognize', u'recognized', u'recommend', u'recommended', u'record', u'recorded', u'recording', u'red', u'redeeming', u'redemption', u'reduced', u'reed', u'reel', u'reference', u'references', u'reflect', u'reflection', u'refreshing', u'refused', u'refuses', u'regard', u'regarding', u'regardless', u'regret', u'regular', u'reid', u'relate', u'related', u'relation', u'relations', u'relationship', u'relationships', u'relative', u'relatively', u'relatives', u'release', u'released', u'relevant', u'relief', u'relies', u'religion', u'religious', u'remain', u'remained', u'remaining', u'remains', u'remake', u'remarkable', u'remarkably', u'remarks', u'remember', u'remembered', u'remind', u'reminded', u'reminds', u'reminiscent', u'remote', u'remotely', u'removed', u'rendition', u'rent', u'rental', u'rented', u'renting', u'repeat', u'repeated', u'repeatedly', u'repetitive', u'replaced', u'report', u'reporter', u'represent', u'represented', u'represents', u'reputation', u'required', u'requires', u'rescue', u'research', u'resemblance', u'resemble', u'resembles', u'resident', u'resist', u'resolution', u'resort', u'resources', u'respect', u'respected', u'respectively', u'response', u'responsibility', u'responsible', u'rest', u'restaurant', u'restored', u'result', u'resulting', u'results', u'retarded', u'retired', u'return', u'returned', u'returning', u'returns', u'reunion', u'reveal', u'revealed', u'revealing', u'reveals', u'revelation', u'revenge', u'review', u'reviewer', u'reviewers', u'reviews', u'revolution', u'revolutionary', u'revolves', u'rex', u'reynolds', u'rich', u'richard', u'richards', u'richardson', u'rick', u'rid', u'ridden', u'ride', u'ridiculous', u'ridiculously', u'riding', u'right', u'rights', u'ring', u'rings', u'rip', u'ripped', u'rise', u'rises', u'rising', u'risk', u'rita', u'ritter', u'rival', u'river', u'riveting', u'road', u'rob', u'robbery', u'robbins', u'robert', u'roberts', u'robin', u'robinson', u'robot', u'robots', u'rochester', u'rock', u'rocket', u'rocks', u'rocky', u'roger', u'rogers', u'role', u'roles', u'roll', u'rolled', u'rolling', u'roman', u'romance', u'romantic', u'romero', u'romp', u'ron', u'room', u'rooms', u'rooney', u'root', u'roots', u'rose', u'ross', u'roth', u'rotten', u'rough', u'round', u'routine', u'row', u'roy', u'royal', u'rubber', u'rubbish', u'ruby', u'ruin', u'ruined', u'ruins', u'rukh', u'rule', u'rules', u'run', u'running', u'runs', u'rural', u'rush', u'rushed', u'russell', u'russia', u'russian', u'ruth', u'ruthless', u'ryan', u'sabrina', u'sacrifice', u'sad', u'sadistic', u'sadly', u'sadness', u'safe', u'safety', u'saga', u'said', u'sake', u'sally', u'sam', u'samurai', u'san', u'sandler', u'sandra', u'santa', u'sappy', u'sarah', u'sat', u'satan', u'satire', u'satisfied', u'satisfy', u'satisfying', u'saturday', u'savage', u'save', u'saved', u'saves', u'saving', u'saw', u'say', u'saying', u'says', u'scale', u'scare', u'scarecrow', u'scared', u'scares', u'scary', u'scenario', u'scene', u'scenery', u'scenes', u'scheme', u'school', u'sci', u'science', u'scientific', u'scientist', u'scientists', u'scooby', u'scope', u'score', u'scores', u'scotland', u'scott', u'scottish', u'scream', u'screaming', u'screams', u'screen', u'screening', u'screenplay', u'screenwriter', u'script', u'scripted', u'scripts', u'scrooge', u'sea', u'seagal', u'sean', u'search', u'searching', u'season', u'seasons', u'seat', u'second', u'secondly', u'seconds', u'secret', u'secretary', u'secretly', u'secrets', u'section', u'security', u'see', u'seed', u'seeing', u'seek', u'seeking', u'seeks', u'seem', u'seemed', u'seemingly', u'seems', u'seen', u'sees', u'segment', u'segments', u'seldom', u'self', u'selfish', u'sell', u'sellers', u'selling', u'semi', u'send', u'sends', u'sense', u'senseless', u'senses', u'sensitive', u'sent', u'sentence', u'sentimental', u'separate', u'september', u'sequel', u'sequels', u'sequence', u'sequences', u'serial', u'series', u'serious', u'seriously', u'serve', u'served', u'serves', u'service', u'serving', u'set', u'sets', u'setting', u'settings', u'settle', u'seven', u'seventies', u'several', u'severe', u'sex', u'sexual', u'sexuality', u'sexually', u'sexy', u'sh', u'shadow', u'shadows', u'shake', u'shakespeare', u'shaky', u'shall', u'shallow', u'shame', u'shanghai', u'shape', u'share', u'shark', u'sharp', u'shaw', u'shed', u'sheer', u'shelf', u'shelley', u'sheriff', u'shine', u'shines', u'shining', u'ship', u'ships', u'shirley', u'shirt', u'shock', u'shocked', u'shocking', u'shoes', u'shoot', u'shooting', u'shoots', u'shop', u'short', u'shortly', u'shorts', u'shot', u'shots', u'show', u'showcase', u'showdown', u'showed', u'shower', u'showing', u'shown', u'shows', u'shut', u'shy', u'sick', u'sid', u'side', u'sidekick', u'sides', u'sidney', u'sight', u'sign', u'signed', u'significance', u'significant', u'signs', u'silence', u'silent', u'silly', u'silver', u'similar', u'similarities', u'similarly', u'simmons', u'simon', u'simple', u'simplicity', u'simplistic', u'simply', u'simpson', u'sin', u'sinatra', u'since', u'sincere', u'sing', u'singer', u'singers', u'singing', u'single', u'sings', u'sinister', u'sink', u'sir', u'sirk', u'sissy', u'sister', u'sisters', u'sit', u'sitcom', u'site', u'sits', u'sitting', u'situation', u'situations', u'six', u'sixties', u'size', u'skill', u'skills', u'skin', u'skip', u'skull', u'sky', u'slap', u'slapstick', u'slasher', u'slaughter', u'slave', u'sleazy', u'sleep', u'sleeping', u'slice', u'slick', u'slight', u'slightest', u'slightly', u'sloppy', u'slow', u'slowly', u'small', u'smaller', u'smart', u'smile', u'smiling', u'smith', u'smoke', u'smoking', u'smooth', u'snake', u'sneak', u'snl', u'snow', u'soap', u'soccer', u'social', u'society', u'soderbergh', u'soft', u'sold', u'soldier', u'soldiers', u'sole', u'solely', u'solid', u'solo', u'solution', u'solve', u'somebody', u'somehow', u'someone', u'something', u'sometimes', u'somewhat', u'somewhere', u'son', u'song', u'songs', u'sons', u'soon', u'sophisticated', u'sopranos', u'sorry', u'sort', u'sorts', u'soul', u'souls', u'sound', u'sounded', u'sounding', u'sounds', u'soundtrack', u'source', u'south', u'southern', u'soviet', u'space', u'spacey', u'spain', u'spanish', u'spare', u'spark', u'speak', u'speaking', u'speaks', u'special', u'specially', u'species', u'specific', u'specifically', u'spectacular', u'speech', u'speed', u'spell', u'spend', u'spending', u'spends', u'spent', u'spider', u'spielberg', u'spike', u'spin', u'spirit', u'spirited', u'spirits', u'spiritual', u'spite', u'splatter', u'splendid', u'split', u'spock', u'spoil', u'spoiled', u'spoiler', u'spoilers', u'spoke', u'spoken', u'spoof', u'spooky', u'sport', u'sports', u'spot', u'spots', u'spread', u'spring', u'spy', u'square', u'st', u'stack', u'staff', u'stage', u'staged', u'stale', u'stallone', u'stan', u'stand', u'standard', u'standards', u'standing', u'stands', u'stanley', u'stanwyck', u'star', u'stargate', u'staring', u'starred', u'starring', u'stars', u'start', u'started', u'starting', u'starts', u'state', u'stated', u'statement', u'states', u'station', u'status', u'stay', u'stayed', u'staying', u'stays', u'steal', u'stealing', u'steals', u'steel', u'stellar', u'step', u'stephen', u'steps', u'stereotype', u'stereotypes', u'stereotypical', u'steve', u'steven', u'stevens', u'stewart', u'stick', u'sticks', u'stiff', u'still', u'stiller', u'stilted', u'stinker', u'stinks', u'stock', u'stole', u'stolen', u'stomach', u'stone', u'stood', u'stooges', u'stop', u'stopped', u'stops', u'store', u'stories', u'storm', u'story', u'storyline', u'storytelling', u'straight', u'strange', u'strangely', u'stranger', u'strangers', u'streep', u'street', u'streets', u'streisand', u'strength', u'stress', u'stretch', u'stretched', u'strictly', u'strike', u'strikes', u'striking', u'string', u'strip', u'strong', u'stronger', u'strongly', u'struck', u'structure', u'struggle', u'struggles', u'struggling', u'stuart', u'stuck', u'student', u'students', u'studio', u'studios', u'study', u'stuff', u'stumbled', u'stunned', u'stunning', u'stunt', u'stunts', u'stupid', u'stupidity', u'style', u'styles', u'stylish', u'sub', u'subject', u'subjected', u'subjects', u'subplot', u'subplots', u'subsequent', u'substance', u'subtitles', u'subtle', u'subtlety', u'succeed', u'succeeded', u'succeeds', u'success', u'successful', u'successfully', u'suck', u'sucked', u'sucks', u'sudden', u'suddenly', u'sue', u'suffer', u'suffered', u'suffering', u'suffers', u'suffice', u'suggest', u'suggested', u'suggests', u'suicide', u'suit', u'suitable', u'suited', u'suits', u'sullivan', u'sum', u'summary', u'summer', u'sun', u'sunday', u'sunshine', u'super', u'superb', u'superbly', u'superficial', u'superhero', u'superior', u'superman', u'supernatural', u'support', u'supported', u'supporting', u'suppose', u'supposed', u'supposedly', u'sure', u'surely', u'surface', u'surfing', u'surprise', u'surprised', u'surprises', u'surprising', u'surprisingly', u'surreal', u'surrounded', u'surrounding', u'survival', u'survive', u'survived', u'surviving', u'survivor', u'survivors', u'susan', u'suspect', u'suspects', u'suspend', u'suspense', u'suspenseful', u'suspicious', u'sutherland', u'swear', u'swedish', u'sweet', u'swim', u'swimming', u'switch', u'sword', u'symbolism', u'sympathetic', u'sympathy', u'synopsis', u'system', u'table', u'tacky', u'tad', u'tag', u'take', u'taken', u'takes', u'taking', u'tale', u'talent', u'talented', u'talents', u'tales', u'talk', u'talked', u'talking', u'talks', u'tall', u'tame', u'tank', u'tap', u'tape', u'tarantino', u'target', u'tarzan', u'task', u'taste', u'taught', u'taxi', u'taylor', u'tea', u'teach', u'teacher', u'teaching', u'team', u'tear', u'tears', u'tech', u'technical', u'technically', u'technicolor', u'technique', u'techniques', u'technology', u'ted', u'tedious', u'teen', u'teenage', u'teenager', u'teenagers', u'teens', u'teeth', u'television', u'tell', u'telling', u'tells', u'temple', u'ten', u'tend', u'tender', u'tends', u'tense', u'tension', u'term', u'terms', u'terrible', u'terribly', u'terrific', u'terrifying', u'territory', u'terror', u'terrorist', u'terrorists', u'terry', u'test', u'testament', u'texas', u'text', u'th', u'thank', u'thankfully', u'thanks', u'thats', u'theater', u'theaters', u'theatre', u'theatrical', u'theme', u'themes', u'theory', u'therefore', u'thick', u'thief', u'thin', u'thing', u'things', u'think', u'thinking', u'thinks', u'third', u'thirty', u'thomas', u'thompson', u'thoroughly', u'though', u'thought', u'thoughtful', u'thoughts', u'thousand', u'thousands', u'threat', u'threatening', u'three', u'threw', u'thrill', u'thriller', u'thrillers', u'thrilling', u'thrills', u'throat', u'throughout', u'throw', u'throwing', u'thrown', u'throws', u'thru', u'thugs', u'thumbs', u'thus', u'ticket', u'tie', u'tied', u'ties', u'tiger', u'tight', u'till', u'tim', u'time', u'timeless', u'times', u'timing', u'timon', u'timothy', u'tiny', u'tired', u'tiresome', u'titanic', u'title', u'titled', u'titles', u'today', u'todd', u'together', u'toilet', u'told', u'tom', u'tomatoes', u'tommy', u'tone', u'tongue', u'tonight', u'tons', u'tony', u'took', u'tooth', u'top', u'topic', u'topless', u'torn', u'torture', u'tortured', u'total', u'totally', u'touch', u'touched', u'touches', u'touching', u'tough', u'tour', u'toward', u'towards', u'town', u'toy', u'toys', u'track', u'tracks', u'tracy', u'trade', u'trademark', u'tradition', u'traditional', u'tragedy', u'tragic', u'trail', u'trailer', u'trailers', u'train', u'trained', u'training', u'transfer', u'transformation', u'transition', u'translation', u'trap', u'trapped', u'trash', u'trashy', u'travel', u'traveling', u'travels', u'travesty', u'treasure', u'treat', u'treated', u'treatment', u'treats', u'tree', u'trees', u'trek', u'tremendous', u'trial', u'tribe', u'tribute', u'trick', u'tricks', u'tried', u'tries', u'trilogy', u'trio', u'trip', u'trite', u'triumph', u'troops', u'trouble', u'troubled', u'troubles', u'truck', u'true', u'truly', u'trust', u'truth', u'try', u'trying', u'tube', u'tune', u'tunes', u'turkey', u'turn', u'turned', u'turner', u'turning', u'turns', u'tv', u'twelve', u'twenty', u'twice', u'twilight', u'twin', u'twins', u'twist', u'twisted', u'twists', u'two', u'type', u'types', u'typical', u'typically', u'ugly', u'uk', u'ultimate', u'ultimately', u'ultra', u'un', u'unable', u'unaware', u'unbearable', u'unbelievable', u'unbelievably', u'uncle', u'uncomfortable', u'unconvincing', u'underground', u'underlying', u'underrated', u'understand', u'understandable', u'understanding', u'understated', u'understood', u'undoubtedly', u'uneven', u'unexpected', u'unexpectedly', u'unfair', u'unfolds', u'unforgettable', u'unfortunate', u'unfortunately', u'unfunny', u'unhappy', u'uninspired', u'unintentional', u'unintentionally', u'uninteresting', u'union', u'unique', u'unit', u'united', u'universal', u'universe', u'university', u'unknown', u'unless', u'unlike', u'unlikely', u'unnecessary', u'unoriginal', u'unpleasant', u'unpredictable', u'unreal', u'unrealistic', u'unseen', u'unsettling', u'unusual', u'unwatchable', u'uplifting', u'upon', u'upper', u'ups', u'upset', u'urban', u'urge', u'us', u'usa', u'use', u'used', u'useful', u'useless', u'user', u'uses', u'using', u'ustinov', u'usual', u'usually', u'utter', u'utterly', u'uwe', u'vacation', u'vague', u'vaguely', u'valentine', u'valley', u'valuable', u'value', u'values', u'vampire', u'vampires', u'van', u'vance', u'variety', u'various', u'vast', u'vegas', u'vehicle', u'vengeance', u'verhoeven', u'version', u'versions', u'versus', u'veteran', u'vhs', u'via', u'vice', u'vicious', u'victim', u'victims', u'victor', u'victoria', u'victory', u'video', u'videos', u'vietnam', u'view', u'viewed', u'viewer', u'viewers', u'viewing', u'viewings', u'views', u'village', u'villain', u'villains', u'vincent', u'violence', u'violent', u'virgin', u'virginia', u'virtually', u'virus', u'visible', u'vision', u'visit', u'visits', u'visual', u'visually', u'visuals', u'vivid', u'voice', u'voiced', u'voices', u'voight', u'von', u'vote', u'vs', u'vulnerable', u'wacky', u'wait', u'waited', u'waiting', u'waitress', u'wake', u'walk', u'walked', u'walken', u'walker', u'walking', u'walks', u'wall', u'wallace', u'walls', u'walsh', u'walter', u'wandering', u'wang', u'wanna', u'wannabe', u'want', u'wanted', u'wanting', u'wants', u'war', u'ward', u'warm', u'warming', u'warmth', u'warn', u'warned', u'warner', u'warning', u'warren', u'warrior', u'warriors', u'wars', u'washington', u'waste', u'wasted', u'wasting', u'watch', u'watchable', u'watched', u'watches', u'watching', u'water', u'waters', u'watson', u'wave', u'waves', u'way', u'wayne', u'ways', u'weak', u'weakest', u'wealth', u'wealthy', u'weapon', u'weapons', u'wear', u'wearing', u'wears', u'web', u'website', u'wedding', u'week', u'weekend', u'weeks', u'weight', u'weird', u'welcome', u'well', u'welles', u'wells', u'wendy', u'went', u'werewolf', u'wes', u'west', u'western', u'westerns', u'wet', u'whale', u'whatever', u'whats', u'whatsoever', u'whenever', u'whereas', u'whether', u'whilst', u'white', u'whoever', u'whole', u'wholly', u'whoopi', u'whose', u'wicked', u'wide', u'widely', u'widmark', u'widow', u'wife', u'wild', u'wilderness', u'william', u'williams', u'willie', u'willing', u'willis', u'wilson', u'win', u'wind', u'window', u'winds', u'wing', u'winner', u'winning', u'wins', u'winter', u'winters', u'wisdom', u'wise', u'wish', u'wished', u'wishes', u'wishing', u'wit', u'witch', u'witches', u'within', u'without', u'witness', u'witnessed', u'witnesses', u'witty', u'wives', u'wizard', u'wolf', u'woman', u'women', u'wonder', u'wondered', u'wonderful', u'wonderfully', u'wondering', u'wonders', u'wont', u'woo', u'wood', u'wooden', u'woods', u'woody', u'word', u'words', u'wore', u'work', u'worked', u'worker', u'workers', u'working', u'works', u'world', u'worlds', u'worn', u'worried', u'worry', u'worse', u'worst', u'worth', u'worthless', u'worthwhile', u'worthy', u'would', u'wound', u'wounded', u'wow', u'wrap', u'wrapped', u'wreck', u'wrestling', u'wretched', u'write', u'writer', u'writers', u'writes', u'writing', u'written', u'wrong', u'wrote', u'ww', u'wwii', u'ya', u'yard', u'yeah', u'year', u'years', u'yelling', u'yellow', u'yes', u'yesterday', u'yet', u'york', u'young', u'younger', u'youth', u'zero', u'zizek', u'zombie', u'zombies', u'zone']\n"
     ]
    }
   ],
   "source": [
    "vocab = vectorizer.get_feature_names()\n",
    "print(vocab)"
   ]
  },
  {
   "cell_type": "code",
   "execution_count": 40,
   "metadata": {},
   "outputs": [
    {
     "data": {
      "text/plain": [
       "(25000, 5000)"
      ]
     },
     "execution_count": 40,
     "metadata": {},
     "output_type": "execute_result"
    }
   ],
   "source": [
    "train_data_features.shape"
   ]
  },
  {
   "cell_type": "code",
   "execution_count": 43,
   "metadata": {},
   "outputs": [
    {
     "data": {
      "text/plain": [
       "matrix([[187, 125, 108, ..., 740, 518, 147]])"
      ]
     },
     "execution_count": 43,
     "metadata": {},
     "output_type": "execute_result"
    }
   ],
   "source": [
    "np.sum(train_data_features, axis=0)"
   ]
  },
  {
   "cell_type": "code",
   "execution_count": 55,
   "metadata": {},
   "outputs": [
    {
     "data": {
      "text/plain": [
       "(0, 500)"
      ]
     },
     "execution_count": 55,
     "metadata": {},
     "output_type": "execute_result"
    },
    {
     "data": {
      "image/png": "[encoded data removed]",
      "text/plain": [
       "<matplotlib.figure.Figure at 0x7f45d6812850>"
      ]
     },
     "metadata": {},
     "output_type": "display_data"
    }
   ],
   "source": [
    "sns.distplot(np.sum(train_data_features, axis=0).flatten(), kde = False, bins = 5000)\n",
    "plt.xlim(0,500)"
   ]
  },
  {
   "cell_type": "markdown",
   "metadata": {},
   "source": [
    "## Random Forest"
   ]
  },
  {
   "cell_type": "code",
   "execution_count": 86,
   "metadata": {},
   "outputs": [],
   "source": [
    "# Initialize a Random Forest classifier with 100 trees\n",
    "forest = RandomForestClassifier(n_estimators = 100, oob_score=True) \n",
    "\n",
    "# Fit the forest to the training set, using the bag of words as \n",
    "# features and the sentiment labels as the response variable\n",
    "#\n",
    "# This may take a few minutes to run\n",
    "forest = forest.fit(train_data_features, train[\"sentiment\"])"
   ]
  },
  {
   "cell_type": "markdown",
   "metadata": {},
   "source": [
    "## testing"
   ]
  },
  {
   "cell_type": "code",
   "execution_count": 62,
   "metadata": {},
   "outputs": [
    {
     "name": "stdout",
     "output_type": "stream",
     "text": [
      "Processing 0 of 25000\n",
      "Processing 1000 of 25000\n",
      "Processing 2000 of 25000\n",
      "Processing 3000 of 25000\n",
      "Processing 4000 of 25000\n",
      "Processing 5000 of 25000\n",
      "Processing 6000 of 25000\n",
      "Processing 7000 of 25000\n",
      "Processing 8000 of 25000\n",
      "Processing 9000 of 25000\n",
      "Processing 10000 of 25000\n",
      "Processing 11000 of 25000\n",
      "Processing 12000 of 25000\n",
      "Processing 13000 of 25000\n",
      "Processing 14000 of 25000\n",
      "Processing 15000 of 25000\n",
      "Processing 16000 of 25000\n",
      "Processing 17000 of 25000\n",
      "Processing 18000 of 25000\n",
      "Processing 19000 of 25000\n",
      "Processing 20000 of 25000\n",
      "Processing 21000 of 25000\n",
      "Processing 22000 of 25000\n",
      "Processing 23000 of 25000\n",
      "Processing 24000 of 25000\n"
     ]
    }
   ],
   "source": [
    "num_tests = test.shape[0]\n",
    "clean_test_reviews = []\n",
    "\n",
    "for i in range(num_tests):\n",
    "    if i % 1000 == 0:\n",
    "        print(\"Processing {} of {}\".format(i, num_tests))\n",
    "    clean_test_reviews.append(review_to_words(test[\"review\"][i]))\n",
    "\n"
   ]
  },
  {
   "cell_type": "code",
   "execution_count": 63,
   "metadata": {},
   "outputs": [
    {
     "data": {
      "text/plain": [
       "25000"
      ]
     },
     "execution_count": 63,
     "metadata": {},
     "output_type": "execute_result"
    }
   ],
   "source": [
    "num_tests"
   ]
  },
  {
   "cell_type": "code",
   "execution_count": 64,
   "metadata": {},
   "outputs": [],
   "source": [
    "test_data_features = vectorizer.transform(clean_test_reviews).toarray()"
   ]
  },
  {
   "cell_type": "code",
   "execution_count": 65,
   "metadata": {
    "collapsed": true
   },
   "outputs": [],
   "source": [
    "test_predicts = forest.predict(test_data_features)"
   ]
  },
  {
   "cell_type": "code",
   "execution_count": 66,
   "metadata": {
    "collapsed": true
   },
   "outputs": [],
   "source": [
    "output = pd.DataFrame({\"id\":test[\"id\"], \"sentiment\":test_predicts})"
   ]
  },
  {
   "cell_type": "code",
   "execution_count": 67,
   "metadata": {},
   "outputs": [
    {
     "data": {
      "text/html": [
       "<div>\n",
       "<style>\n",
       "    .dataframe thead tr:only-child th {\n",
       "        text-align: right;\n",
       "    }\n",
       "\n",
       "    .dataframe thead th {\n",
       "        text-align: left;\n",
       "    }\n",
       "\n",
       "    .dataframe tbody tr th {\n",
       "        vertical-align: top;\n",
       "    }\n",
       "</style>\n",
       "<table border=\"1\" class=\"dataframe\">\n",
       "  <thead>\n",
       "    <tr style=\"text-align: right;\">\n",
       "      <th></th>\n",
       "      <th>id</th>\n",
       "      <th>sentiment</th>\n",
       "    </tr>\n",
       "  </thead>\n",
       "  <tbody>\n",
       "    <tr>\n",
       "      <th>0</th>\n",
       "      <td>\"12311_10\"</td>\n",
       "      <td>1</td>\n",
       "    </tr>\n",
       "    <tr>\n",
       "      <th>1</th>\n",
       "      <td>\"8348_2\"</td>\n",
       "      <td>0</td>\n",
       "    </tr>\n",
       "    <tr>\n",
       "      <th>2</th>\n",
       "      <td>\"5828_4\"</td>\n",
       "      <td>1</td>\n",
       "    </tr>\n",
       "    <tr>\n",
       "      <th>3</th>\n",
       "      <td>\"7186_2\"</td>\n",
       "      <td>1</td>\n",
       "    </tr>\n",
       "    <tr>\n",
       "      <th>4</th>\n",
       "      <td>\"12128_7\"</td>\n",
       "      <td>1</td>\n",
       "    </tr>\n",
       "  </tbody>\n",
       "</table>\n",
       "</div>"
      ],
      "text/plain": [
       "           id  sentiment\n",
       "0  \"12311_10\"          1\n",
       "1    \"8348_2\"          0\n",
       "2    \"5828_4\"          1\n",
       "3    \"7186_2\"          1\n",
       "4   \"12128_7\"          1"
      ]
     },
     "execution_count": 67,
     "metadata": {},
     "output_type": "execute_result"
    }
   ],
   "source": [
    "output.head()"
   ]
  },
  {
   "cell_type": "code",
   "execution_count": 68,
   "metadata": {
    "collapsed": true
   },
   "outputs": [],
   "source": [
    "output.to_csv( \"Bag_of_Words_model.csv\", index=False, quoting=3 )"
   ]
  },
  {
   "cell_type": "markdown",
   "metadata": {},
   "source": [
    "# More Exploring"
   ]
  },
  {
   "cell_type": "code",
   "execution_count": 87,
   "metadata": {},
   "outputs": [
    {
     "data": {
      "text/plain": [
       "0.8286"
      ]
     },
     "execution_count": 87,
     "metadata": {},
     "output_type": "execute_result"
    }
   ],
   "source": [
    "forest.oob_score_"
   ]
  },
  {
   "cell_type": "code",
   "execution_count": 89,
   "metadata": {},
   "outputs": [
    {
     "name": "stdout",
     "output_type": "stream",
     "text": [
      "DescribeResult(nobs=5000, minmax=(1.5384615384615394e-06, 0.02132388360642417), mean=0.00020000000000000001, variance=3.8614255043597667e-07, skewness=18.635009425192823, kurtosis=498.02940009128184)\n"
     ]
    }
   ],
   "source": [
    "print(describe(forest.feature_importances_))"
   ]
  },
  {
   "cell_type": "code",
   "execution_count": 88,
   "metadata": {},
   "outputs": [
    {
     "data": {
      "text/plain": [
       "array([u'acting', u'also', u'amazing', u'annoying', u'avoid', u'awful',\n",
       "       u'bad', u'beautiful', u'best', u'boring', u'could', u'crap',\n",
       "       u'dull', u'even', u'excellent', u'fantastic', u'favorite', u'film',\n",
       "       u'great', u'horrible', u'instead', u'lame', u'love', u'loved',\n",
       "       u'minutes', u'money', u'movie', u'nothing', u'oh', u'perfect',\n",
       "       u'plot', u'pointless', u'poor', u'poorly', u'ridiculous', u'script',\n",
       "       u'stupid', u'supposed', u'terrible', u'waste', u'wasted', u'well',\n",
       "       u'wonderful', u'worse', u'worst'],\n",
       "      dtype='<U16')"
      ]
     },
     "execution_count": 88,
     "metadata": {},
     "output_type": "execute_result"
    }
   ],
   "source": [
    "fimp = forest.feature_importances_\n",
    "np.array(vocab)[fimp > 0.002]"
   ]
  },
  {
   "cell_type": "code",
   "execution_count": 91,
   "metadata": {},
   "outputs": [
    {
     "data": {
      "text/plain": [
       "array([ 0.00332565,  0.00277976,  0.00351788,  0.00256699,  0.00267912,\n",
       "        0.00924722,  0.02132388,  0.00271264,  0.00651453,  0.00702291,\n",
       "        0.00254953,  0.00311581,  0.00275091,  0.0035105 ,  0.00725437,\n",
       "        0.00219698,  0.00247108,  0.0021245 ,  0.01201845,  0.00472795,\n",
       "        0.0022865 ,  0.00302193,  0.00486241,  0.00277946,  0.00383754,\n",
       "        0.00325506,  0.00334605,  0.00555522,  0.00245057,  0.00395655,\n",
       "        0.00349438,  0.00201195,  0.00432118,  0.00396182,  0.00297226,\n",
       "        0.00291055,  0.00512973,  0.00313172,  0.00640824,  0.01022773,\n",
       "        0.00276974,  0.00333361,  0.00597668,  0.00637324,  0.01891924])"
      ]
     },
     "execution_count": 91,
     "metadata": {},
     "output_type": "execute_result"
    }
   ],
   "source": [
    "fimp[fimp > 0.002]"
   ]
  },
  {
   "cell_type": "code",
   "execution_count": null,
   "metadata": {
    "collapsed": true
   },
   "outputs": [],
   "source": []
  }
 ],
 "metadata": {
  "kernelspec": {
   "display_name": "Python 2",
   "language": "python",
   "name": "python2"
  },
  "language_info": {
   "codemirror_mode": {
    "name": "ipython",
    "version": 2
   },
   "file_extension": ".py",
   "mimetype": "text/x-python",
   "name": "python",
   "nbconvert_exporter": "python",
   "pygments_lexer": "ipython2",
   "version": "2.7.12"
  }
 },
 "nbformat": 4,
 "nbformat_minor": 2
}
